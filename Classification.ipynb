{
  "nbformat": 4,
  "nbformat_minor": 0,
  "metadata": {
    "colab": {
      "name": "Classification.ipynb",
      "version": "0.3.2",
      "provenance": [],
      "collapsed_sections": [],
      "include_colab_link": true
    },
    "kernelspec": {
      "name": "python3",
      "display_name": "Python 3"
    }
  },
  "cells": [
    {
      "cell_type": "markdown",
      "metadata": {
        "id": "view-in-github",
        "colab_type": "text"
      },
      "source": [
        "<a href=\"https://colab.research.google.com/github/elilaird/Stats202-FinalProject/blob/master/Classification.ipynb\" target=\"_parent\"><img src=\"https://colab.research.google.com/assets/colab-badge.svg\" alt=\"Open In Colab\"/></a>"
      ]
    },
    {
      "cell_type": "code",
      "metadata": {
        "id": "2b2zhbn5ku8L",
        "colab_type": "code",
        "colab": {
          "base_uri": "https://localhost:8080/",
          "height": 34
        },
        "outputId": "a2478bf7-ca9e-44d6-f6e1-86abb20498b9"
      },
      "source": [
        "%matplotlib inline\n",
        "import matplotlib.pyplot as plt\n",
        "import seaborn as sns\n",
        "import pandas as pd\n",
        "import numpy as np\n",
        "\n",
        "from google.colab import drive\n",
        "drive.mount('/content/drive')"
      ],
      "execution_count": 50,
      "outputs": [
        {
          "output_type": "stream",
          "text": [
            "Drive already mounted at /content/drive; to attempt to forcibly remount, call drive.mount(\"/content/drive\", force_remount=True).\n"
          ],
          "name": "stdout"
        }
      ]
    },
    {
      "cell_type": "code",
      "metadata": {
        "id": "Gsae6Xu2lBA3",
        "colab_type": "code",
        "colab": {}
      },
      "source": [
        "study_A = pd.read_csv(\"/content/drive/My Drive/Stats202_FinalProject/Data/Study_A.csv\")\n",
        "study_B = pd.read_csv(\"/content/drive/My Drive/Stats202_FinalProject/Data/Study_B.csv\")\n",
        "study_C = pd.read_csv(\"/content/drive/My Drive/Stats202_FinalProject/Data/Study_C.csv\")\n",
        "study_D = pd.read_csv(\"/content/drive/My Drive/Stats202_FinalProject/Data/Study_D.csv\")\n",
        "study_E = pd.read_csv(\"/content/drive/My Drive/Stats202_FinalProject/Data/Study_E.csv\")\n",
        "\n",
        "targets = pd.read_csv(\"/content/drive/My Drive/Stats202_FinalProject/Data/sample_submission_status.csv\")\n",
        "\n",
        "#merge datasets\n",
        "full_set = pd.concat([study_A, study_B, study_C, study_D])\n",
        "full_set = full_set.reset_index(drop=True)\n",
        "\n",
        "\n",
        "testing_data = pd.DataFrame(study_E)"
      ],
      "execution_count": 0,
      "outputs": []
    },
    {
      "cell_type": "code",
      "metadata": {
        "id": "zsS2Bs9KPfzq",
        "colab_type": "code",
        "outputId": "aea88eb0-53b1-44e3-f49a-34b33b2dcb6a",
        "colab": {
          "base_uri": "https://localhost:8080/",
          "height": 34
        }
      },
      "source": [
        "targets.shape"
      ],
      "execution_count": 52,
      "outputs": [
        {
          "output_type": "execute_result",
          "data": {
            "text/plain": [
              "(1962, 2)"
            ]
          },
          "metadata": {
            "tags": []
          },
          "execution_count": 52
        }
      ]
    },
    {
      "cell_type": "markdown",
      "metadata": {
        "id": "G84oUy_rlNhv",
        "colab_type": "text"
      },
      "source": [
        "###Pre-processing"
      ]
    },
    {
      "cell_type": "code",
      "metadata": {
        "id": "Nm2fTs9ox1B_",
        "colab_type": "code",
        "outputId": "69625354-449d-40d9-92c2-412eec33ee80",
        "colab": {
          "base_uri": "https://localhost:8080/",
          "height": 224
        }
      },
      "source": [
        "training_data = pd.DataFrame(full_set)\n",
        "training_data.head()"
      ],
      "execution_count": 53,
      "outputs": [
        {
          "output_type": "execute_result",
          "data": {
            "text/html": [
              "<div>\n",
              "<style scoped>\n",
              "    .dataframe tbody tr th:only-of-type {\n",
              "        vertical-align: middle;\n",
              "    }\n",
              "\n",
              "    .dataframe tbody tr th {\n",
              "        vertical-align: top;\n",
              "    }\n",
              "\n",
              "    .dataframe thead th {\n",
              "        text-align: right;\n",
              "    }\n",
              "</style>\n",
              "<table border=\"1\" class=\"dataframe\">\n",
              "  <thead>\n",
              "    <tr style=\"text-align: right;\">\n",
              "      <th></th>\n",
              "      <th>Study</th>\n",
              "      <th>Country</th>\n",
              "      <th>PatientID</th>\n",
              "      <th>SiteID</th>\n",
              "      <th>RaterID</th>\n",
              "      <th>AssessmentiD</th>\n",
              "      <th>TxGroup</th>\n",
              "      <th>VisitDay</th>\n",
              "      <th>P1</th>\n",
              "      <th>P2</th>\n",
              "      <th>P3</th>\n",
              "      <th>P4</th>\n",
              "      <th>P5</th>\n",
              "      <th>P6</th>\n",
              "      <th>P7</th>\n",
              "      <th>N1</th>\n",
              "      <th>N2</th>\n",
              "      <th>N3</th>\n",
              "      <th>N4</th>\n",
              "      <th>N5</th>\n",
              "      <th>N6</th>\n",
              "      <th>N7</th>\n",
              "      <th>G1</th>\n",
              "      <th>G2</th>\n",
              "      <th>G3</th>\n",
              "      <th>G4</th>\n",
              "      <th>G5</th>\n",
              "      <th>G6</th>\n",
              "      <th>G7</th>\n",
              "      <th>G8</th>\n",
              "      <th>G9</th>\n",
              "      <th>G10</th>\n",
              "      <th>G11</th>\n",
              "      <th>G12</th>\n",
              "      <th>G13</th>\n",
              "      <th>G14</th>\n",
              "      <th>G15</th>\n",
              "      <th>G16</th>\n",
              "      <th>PANSS_Total</th>\n",
              "      <th>LeadStatus</th>\n",
              "    </tr>\n",
              "  </thead>\n",
              "  <tbody>\n",
              "    <tr>\n",
              "      <th>0</th>\n",
              "      <td>A</td>\n",
              "      <td>USA</td>\n",
              "      <td>10001</td>\n",
              "      <td>20035</td>\n",
              "      <td>30076</td>\n",
              "      <td>100679</td>\n",
              "      <td>Control</td>\n",
              "      <td>0</td>\n",
              "      <td>5</td>\n",
              "      <td>5</td>\n",
              "      <td>5</td>\n",
              "      <td>3</td>\n",
              "      <td>4</td>\n",
              "      <td>5</td>\n",
              "      <td>3</td>\n",
              "      <td>4</td>\n",
              "      <td>4</td>\n",
              "      <td>3</td>\n",
              "      <td>4</td>\n",
              "      <td>4</td>\n",
              "      <td>3</td>\n",
              "      <td>2</td>\n",
              "      <td>3</td>\n",
              "      <td>4</td>\n",
              "      <td>4</td>\n",
              "      <td>4</td>\n",
              "      <td>1</td>\n",
              "      <td>4</td>\n",
              "      <td>1</td>\n",
              "      <td>3</td>\n",
              "      <td>5</td>\n",
              "      <td>3</td>\n",
              "      <td>3</td>\n",
              "      <td>4</td>\n",
              "      <td>3</td>\n",
              "      <td>3</td>\n",
              "      <td>3</td>\n",
              "      <td>5</td>\n",
              "      <td>107</td>\n",
              "      <td>Assign to CS</td>\n",
              "    </tr>\n",
              "    <tr>\n",
              "      <th>1</th>\n",
              "      <td>A</td>\n",
              "      <td>USA</td>\n",
              "      <td>10001</td>\n",
              "      <td>20035</td>\n",
              "      <td>30076</td>\n",
              "      <td>101017</td>\n",
              "      <td>Control</td>\n",
              "      <td>11</td>\n",
              "      <td>5</td>\n",
              "      <td>5</td>\n",
              "      <td>5</td>\n",
              "      <td>3</td>\n",
              "      <td>4</td>\n",
              "      <td>5</td>\n",
              "      <td>3</td>\n",
              "      <td>4</td>\n",
              "      <td>4</td>\n",
              "      <td>3</td>\n",
              "      <td>4</td>\n",
              "      <td>4</td>\n",
              "      <td>3</td>\n",
              "      <td>3</td>\n",
              "      <td>4</td>\n",
              "      <td>4</td>\n",
              "      <td>4</td>\n",
              "      <td>4</td>\n",
              "      <td>1</td>\n",
              "      <td>4</td>\n",
              "      <td>1</td>\n",
              "      <td>3</td>\n",
              "      <td>5</td>\n",
              "      <td>3</td>\n",
              "      <td>3</td>\n",
              "      <td>4</td>\n",
              "      <td>3</td>\n",
              "      <td>3</td>\n",
              "      <td>3</td>\n",
              "      <td>5</td>\n",
              "      <td>109</td>\n",
              "      <td>Assign to CS</td>\n",
              "    </tr>\n",
              "    <tr>\n",
              "      <th>2</th>\n",
              "      <td>A</td>\n",
              "      <td>USA</td>\n",
              "      <td>10001</td>\n",
              "      <td>20035</td>\n",
              "      <td>30076</td>\n",
              "      <td>102177</td>\n",
              "      <td>Control</td>\n",
              "      <td>18</td>\n",
              "      <td>4</td>\n",
              "      <td>4</td>\n",
              "      <td>4</td>\n",
              "      <td>3</td>\n",
              "      <td>2</td>\n",
              "      <td>4</td>\n",
              "      <td>2</td>\n",
              "      <td>4</td>\n",
              "      <td>4</td>\n",
              "      <td>3</td>\n",
              "      <td>4</td>\n",
              "      <td>4</td>\n",
              "      <td>3</td>\n",
              "      <td>2</td>\n",
              "      <td>3</td>\n",
              "      <td>3</td>\n",
              "      <td>3</td>\n",
              "      <td>3</td>\n",
              "      <td>1</td>\n",
              "      <td>4</td>\n",
              "      <td>2</td>\n",
              "      <td>2</td>\n",
              "      <td>4</td>\n",
              "      <td>2</td>\n",
              "      <td>2</td>\n",
              "      <td>3</td>\n",
              "      <td>3</td>\n",
              "      <td>2</td>\n",
              "      <td>3</td>\n",
              "      <td>4</td>\n",
              "      <td>91</td>\n",
              "      <td>Passed</td>\n",
              "    </tr>\n",
              "    <tr>\n",
              "      <th>3</th>\n",
              "      <td>A</td>\n",
              "      <td>USA</td>\n",
              "      <td>10001</td>\n",
              "      <td>20035</td>\n",
              "      <td>30076</td>\n",
              "      <td>101533</td>\n",
              "      <td>Control</td>\n",
              "      <td>25</td>\n",
              "      <td>3</td>\n",
              "      <td>3</td>\n",
              "      <td>3</td>\n",
              "      <td>2</td>\n",
              "      <td>2</td>\n",
              "      <td>4</td>\n",
              "      <td>2</td>\n",
              "      <td>4</td>\n",
              "      <td>4</td>\n",
              "      <td>2</td>\n",
              "      <td>4</td>\n",
              "      <td>4</td>\n",
              "      <td>2</td>\n",
              "      <td>2</td>\n",
              "      <td>3</td>\n",
              "      <td>3</td>\n",
              "      <td>2</td>\n",
              "      <td>2</td>\n",
              "      <td>1</td>\n",
              "      <td>2</td>\n",
              "      <td>2</td>\n",
              "      <td>2</td>\n",
              "      <td>3</td>\n",
              "      <td>2</td>\n",
              "      <td>2</td>\n",
              "      <td>3</td>\n",
              "      <td>3</td>\n",
              "      <td>2</td>\n",
              "      <td>3</td>\n",
              "      <td>4</td>\n",
              "      <td>80</td>\n",
              "      <td>Flagged</td>\n",
              "    </tr>\n",
              "    <tr>\n",
              "      <th>4</th>\n",
              "      <td>A</td>\n",
              "      <td>USA</td>\n",
              "      <td>10001</td>\n",
              "      <td>20035</td>\n",
              "      <td>30076</td>\n",
              "      <td>100930</td>\n",
              "      <td>Control</td>\n",
              "      <td>39</td>\n",
              "      <td>3</td>\n",
              "      <td>3</td>\n",
              "      <td>4</td>\n",
              "      <td>2</td>\n",
              "      <td>1</td>\n",
              "      <td>4</td>\n",
              "      <td>2</td>\n",
              "      <td>4</td>\n",
              "      <td>4</td>\n",
              "      <td>2</td>\n",
              "      <td>4</td>\n",
              "      <td>4</td>\n",
              "      <td>1</td>\n",
              "      <td>2</td>\n",
              "      <td>3</td>\n",
              "      <td>3</td>\n",
              "      <td>1</td>\n",
              "      <td>2</td>\n",
              "      <td>1</td>\n",
              "      <td>1</td>\n",
              "      <td>2</td>\n",
              "      <td>2</td>\n",
              "      <td>3</td>\n",
              "      <td>2</td>\n",
              "      <td>2</td>\n",
              "      <td>3</td>\n",
              "      <td>3</td>\n",
              "      <td>2</td>\n",
              "      <td>3</td>\n",
              "      <td>4</td>\n",
              "      <td>77</td>\n",
              "      <td>Flagged</td>\n",
              "    </tr>\n",
              "  </tbody>\n",
              "</table>\n",
              "</div>"
            ],
            "text/plain": [
              "  Study Country  PatientID  SiteID  ...  G15  G16 PANSS_Total    LeadStatus\n",
              "0     A     USA      10001   20035  ...    3    5         107  Assign to CS\n",
              "1     A     USA      10001   20035  ...    3    5         109  Assign to CS\n",
              "2     A     USA      10001   20035  ...    3    4          91        Passed\n",
              "3     A     USA      10001   20035  ...    3    4          80       Flagged\n",
              "4     A     USA      10001   20035  ...    3    4          77       Flagged\n",
              "\n",
              "[5 rows x 40 columns]"
            ]
          },
          "metadata": {
            "tags": []
          },
          "execution_count": 53
        }
      ]
    },
    {
      "cell_type": "code",
      "metadata": {
        "id": "pDVJSXstIE2I",
        "colab_type": "code",
        "outputId": "38615d21-0ceb-4f80-ec17-4f4e6572ad71",
        "colab": {
          "base_uri": "https://localhost:8080/",
          "height": 85
        }
      },
      "source": [
        "training_data['LeadStatus'].value_counts()"
      ],
      "execution_count": 54,
      "outputs": [
        {
          "output_type": "execute_result",
          "data": {
            "text/plain": [
              "Passed          15841\n",
              "Flagged          2630\n",
              "Assign to CS     2476\n",
              "Name: LeadStatus, dtype: int64"
            ]
          },
          "metadata": {
            "tags": []
          },
          "execution_count": 54
        }
      ]
    },
    {
      "cell_type": "markdown",
      "metadata": {
        "id": "73U1toyiHfB3",
        "colab_type": "text"
      },
      "source": [
        "####Encode LeadStatus values as 1 for 'Flagged' and  0 for 'Assign to CS'"
      ]
    },
    {
      "cell_type": "code",
      "metadata": {
        "id": "Fc34dnAklgoE",
        "colab_type": "code",
        "outputId": "49224f90-fb25-4983-bedf-dae71378df47",
        "colab": {
          "base_uri": "https://localhost:8080/",
          "height": 34
        }
      },
      "source": [
        "training_data = training_data[training_data['LeadStatus'] != 'Passed']\n",
        "training_data['LeadStatus'] = training_data['LeadStatus'].map({'Assign to CS': 0, 'Flagged': 1})\n",
        "training_data['LeadStatus'].unique()"
      ],
      "execution_count": 55,
      "outputs": [
        {
          "output_type": "execute_result",
          "data": {
            "text/plain": [
              "array([0, 1])"
            ]
          },
          "metadata": {
            "tags": []
          },
          "execution_count": 55
        }
      ]
    },
    {
      "cell_type": "code",
      "metadata": {
        "id": "ZR-M_xM2LCxG",
        "colab_type": "code",
        "colab": {
          "base_uri": "https://localhost:8080/",
          "height": 34
        },
        "outputId": "62542e66-7bb8-4ffd-f6c0-144d8e31b9a1"
      },
      "source": [
        "training_data.shape"
      ],
      "execution_count": 56,
      "outputs": [
        {
          "output_type": "execute_result",
          "data": {
            "text/plain": [
              "(5106, 40)"
            ]
          },
          "metadata": {
            "tags": []
          },
          "execution_count": 56
        }
      ]
    },
    {
      "cell_type": "code",
      "metadata": {
        "id": "NAYWv3hAspXz",
        "colab_type": "code",
        "outputId": "ac172112-6fce-48ba-a55a-45f7ef2c655b",
        "colab": {
          "base_uri": "https://localhost:8080/",
          "height": 295
        }
      },
      "source": [
        "training_data['LeadStatus'].hist()\n",
        "plt.title(\"Distribution of LeadStatus Classes\")\n",
        "plt.xlabel(\"LeadStatus Value\")\n",
        "plt.ylabel(\"Count\")\n",
        "plt.savefig('/content/drive/My Drive/Stats202_FinalProject/Figures/class_distribution.png')"
      ],
      "execution_count": 59,
      "outputs": [
        {
          "output_type": "display_data",
          "data": {
            "image/png": "[encoded data removed]",
            "text/plain": [
              "<Figure size 432x288 with 1 Axes>"
            ]
          },
          "metadata": {
            "tags": []
          }
        }
      ]
    },
    {
      "cell_type": "markdown",
      "metadata": {
        "id": "_ufSKFGKsiR0",
        "colab_type": "text"
      },
      "source": [
        "####Check to see if the nominal variables have common values in each set"
      ]
    },
    {
      "cell_type": "code",
      "metadata": {
        "id": "uFtwOzaKsufZ",
        "colab_type": "code",
        "outputId": "79ec35ed-877e-4440-efb1-013feba1cf9b",
        "colab": {
          "base_uri": "https://localhost:8080/",
          "height": 34
        }
      },
      "source": [
        "#check if training and test sets have common assessmentiDs\n",
        "train_assessmentids = set(training_data['AssessmentiD'])\n",
        "test_assessmentids = set(testing_data['AssessmentiD'])\n",
        "\n",
        "common_assessmentids = train_assessmentids.intersection(test_assessmentids)\n",
        "print(len(common_assessmentids))"
      ],
      "execution_count": 0,
      "outputs": [
        {
          "output_type": "stream",
          "text": [
            "0\n"
          ],
          "name": "stdout"
        }
      ]
    },
    {
      "cell_type": "markdown",
      "metadata": {
        "id": "W7cRiNmDtzfH",
        "colab_type": "text"
      },
      "source": [
        "There are no common assessmentids in both sets, therefore we can leave out the assessmentid variable in modeling"
      ]
    },
    {
      "cell_type": "code",
      "metadata": {
        "id": "wXMTLnXdt6z7",
        "colab_type": "code",
        "outputId": "49f09322-fbdb-4784-ac42-92a6cc81b05c",
        "colab": {
          "base_uri": "https://localhost:8080/",
          "height": 34
        }
      },
      "source": [
        "#check if training and test sets have common SiteIds\n",
        "train_siteIds = set(training_data['SiteID'])\n",
        "test_siteIds = set(testing_data['SiteID'])\n",
        "\n",
        "common_siteIds = train_siteIds.intersection(test_siteIds)\n",
        "print(len(common_siteIds))"
      ],
      "execution_count": 0,
      "outputs": [
        {
          "output_type": "stream",
          "text": [
            "0\n"
          ],
          "name": "stdout"
        }
      ]
    },
    {
      "cell_type": "markdown",
      "metadata": {
        "id": "k7pqlnqMuTpb",
        "colab_type": "text"
      },
      "source": [
        "There are no common siteIDs, therefore we can leave out the siteID variable in modeling"
      ]
    },
    {
      "cell_type": "code",
      "metadata": {
        "id": "sHaEaD2QuaFN",
        "colab_type": "code",
        "outputId": "5766293f-7a55-44cf-edc2-975ede955760",
        "colab": {
          "base_uri": "https://localhost:8080/",
          "height": 34
        }
      },
      "source": [
        "#check if training and test sets have common raterIDs\n",
        "train_raterIds = set(training_data['RaterID'])\n",
        "test_raterIds = set(testing_data['RaterID'])\n",
        "\n",
        "common_raterIds = train_raterIds.intersection(test_raterIds)\n",
        "print(len(common_raterIds))"
      ],
      "execution_count": 0,
      "outputs": [
        {
          "output_type": "stream",
          "text": [
            "0\n"
          ],
          "name": "stdout"
        }
      ]
    },
    {
      "cell_type": "markdown",
      "metadata": {
        "id": "spOHJYHsutNG",
        "colab_type": "text"
      },
      "source": [
        "There are no common raterIds, therefore we can leave out the raterId variable in modeling"
      ]
    },
    {
      "cell_type": "code",
      "metadata": {
        "id": "bIAphf1Ku3Wc",
        "colab_type": "code",
        "outputId": "2f231693-2af8-418a-8066-407f4cf2c912",
        "colab": {
          "base_uri": "https://localhost:8080/",
          "height": 34
        }
      },
      "source": [
        "#check if training and test sets have common PatientIds\n",
        "train_patientIds = set(training_data['PatientID'])\n",
        "test_patientIds = set(testing_data['PatientID'])\n",
        "\n",
        "common_patientIds = train_patientIds.intersection(test_patientIds)\n",
        "print(len(common_patientIds))"
      ],
      "execution_count": 0,
      "outputs": [
        {
          "output_type": "stream",
          "text": [
            "0\n"
          ],
          "name": "stdout"
        }
      ]
    },
    {
      "cell_type": "markdown",
      "metadata": {
        "id": "5n1EHbyIviqo",
        "colab_type": "text"
      },
      "source": [
        "There are no common patientIds, therefore we can leave out the patientIds variable in modeling"
      ]
    },
    {
      "cell_type": "code",
      "metadata": {
        "id": "DtIhtVMcvw8x",
        "colab_type": "code",
        "colab": {}
      },
      "source": [
        "#remove variables with uncommon values in training and testing data\n",
        "training_data = training_data.drop(['RaterID','PatientID','SiteID','Study'], axis=1)\n",
        "testing_data = testing_data.drop(['RaterID','PatientID','SiteID','Study'], axis=1)"
      ],
      "execution_count": 0,
      "outputs": []
    },
    {
      "cell_type": "markdown",
      "metadata": {
        "id": "8m_BOW6hsmMZ",
        "colab_type": "text"
      },
      "source": [
        "####One-hot encoding for categorical variables"
      ]
    },
    {
      "cell_type": "code",
      "metadata": {
        "id": "VhorP9gMIrUR",
        "colab_type": "code",
        "outputId": "e9ff8f1a-fd40-4a09-e068-1e47fb68e558",
        "colab": {
          "base_uri": "https://localhost:8080/",
          "height": 51
        }
      },
      "source": [
        "#one-hot encode categorical variables\n",
        "training_data = pd.get_dummies(training_data)\n",
        "testing_data = pd.get_dummies(testing_data)\n",
        "\n",
        "print('Training data shape: ', training_data.shape)\n",
        "print('Testing data shape: ', testing_data.shape)"
      ],
      "execution_count": 0,
      "outputs": [
        {
          "output_type": "stream",
          "text": [
            "Training data shape:  (5106, 63)\n",
            "Testing data shape:  (1962, 38)\n"
          ],
          "name": "stdout"
        }
      ]
    },
    {
      "cell_type": "markdown",
      "metadata": {
        "id": "ndwIWv9_KKY8",
        "colab_type": "text"
      },
      "source": [
        "####Align training and testing data"
      ]
    },
    {
      "cell_type": "code",
      "metadata": {
        "id": "MnUhqItXlV_w",
        "colab_type": "code",
        "colab": {}
      },
      "source": [
        "training_labels = training_data['LeadStatus']\n",
        "\n",
        "training_data, testing_data = training_data.align(testing_data, join= 'inner', axis=1)\n",
        "\n",
        "training_data['LeadStatus'] = training_labels"
      ],
      "execution_count": 0,
      "outputs": []
    },
    {
      "cell_type": "code",
      "metadata": {
        "id": "_adAih9XKmi5",
        "colab_type": "code",
        "outputId": "b041714e-3283-48ef-9bcc-65e46f7ed288",
        "colab": {
          "base_uri": "https://localhost:8080/",
          "height": 51
        }
      },
      "source": [
        "print('Training data shape: ', training_data.shape)\n",
        "print('Testing data shape: ', testing_data.shape)"
      ],
      "execution_count": 0,
      "outputs": [
        {
          "output_type": "stream",
          "text": [
            "Training data shape:  (5106, 38)\n",
            "Testing data shape:  (1962, 37)\n"
          ],
          "name": "stdout"
        }
      ]
    },
    {
      "cell_type": "markdown",
      "metadata": {
        "id": "nBokThYlRlPC",
        "colab_type": "text"
      },
      "source": [
        "####Find correlations to target variable"
      ]
    },
    {
      "cell_type": "code",
      "metadata": {
        "id": "a-PsQykwRqeK",
        "colab_type": "code",
        "outputId": "f125bdf7-ddcf-4fa8-87bd-e34ec73d8031",
        "colab": {
          "base_uri": "https://localhost:8080/",
          "height": 697
        }
      },
      "source": [
        "correlations = training_data.corr()['LeadStatus'].sort_values()\n",
        "\n",
        "print('Correlations:\\n', correlations)\n"
      ],
      "execution_count": 0,
      "outputs": [
        {
          "output_type": "stream",
          "text": [
            "Correlations:\n",
            " Country_Russia      -0.262025\n",
            "PANSS_Total         -0.197583\n",
            "G13                 -0.182113\n",
            "N3                  -0.178561\n",
            "G4                  -0.169583\n",
            "N7                  -0.168707\n",
            "G11                 -0.168548\n",
            "N4                  -0.167135\n",
            "G5                  -0.165749\n",
            "N6                  -0.162785\n",
            "N1                  -0.160665\n",
            "G16                 -0.157852\n",
            "N2                  -0.143961\n",
            "P2                  -0.138131\n",
            "G8                  -0.137335\n",
            "G15                 -0.133429\n",
            "G14                 -0.116247\n",
            "P7                  -0.107341\n",
            "P1                  -0.103359\n",
            "P6                  -0.101956\n",
            "G12                 -0.101542\n",
            "P4                  -0.100231\n",
            "G7                  -0.097085\n",
            "P5                  -0.086644\n",
            "G9                  -0.082247\n",
            "N5                  -0.079822\n",
            "G3                  -0.070897\n",
            "G2                  -0.070578\n",
            "G10                 -0.065303\n",
            "P3                  -0.048482\n",
            "G6                  -0.032971\n",
            "G1                  -0.026934\n",
            "TxGroup_Treatment   -0.001048\n",
            "TxGroup_Control      0.001048\n",
            "AssessmentiD         0.109325\n",
            "Country_USA          0.130874\n",
            "VisitDay             0.236742\n",
            "LeadStatus           1.000000\n",
            "Name: LeadStatus, dtype: float64\n"
          ],
          "name": "stdout"
        }
      ]
    },
    {
      "cell_type": "markdown",
      "metadata": {
        "id": "84pbmuZ5W-U7",
        "colab_type": "text"
      },
      "source": [
        "###Feature Engineering"
      ]
    },
    {
      "cell_type": "code",
      "metadata": {
        "id": "RhHWocPce3jN",
        "colab_type": "code",
        "colab": {}
      },
      "source": [
        "#create copies of training and testing data for feature engineering\n",
        "training_copy = training_data.copy()\n",
        "testing_copy = testing_data.copy()"
      ],
      "execution_count": 0,
      "outputs": []
    },
    {
      "cell_type": "markdown",
      "metadata": {
        "id": "cAWM1mkxgyOL",
        "colab_type": "text"
      },
      "source": [
        "#####Combine the symptom scores into totals"
      ]
    },
    {
      "cell_type": "code",
      "metadata": {
        "id": "DsZ6ZNOjXArQ",
        "colab_type": "code",
        "colab": {}
      },
      "source": [
        "#add columns for sums of Positive, Negative, General Symptoms\n",
        "training_copy['Total_P'] = training_copy['P1'] + training_copy['P2'] + training_copy['P3'] + training_copy['P4'] + training_copy['P5'] + training_copy['P6'] + training_copy['P7']\n",
        "training_copy['Total_N'] = training_copy['N1'] + training_copy['N2'] + training_copy['N3'] + training_copy['N4'] + training_copy['N5'] + training_copy['N6'] + training_copy['N7']\n",
        "training_copy['Total_G'] = training_copy['G1'] + training_copy['G2'] + training_copy['G3'] + training_copy['G4'] + training_copy['G5'] + training_copy['G6'] + training_copy['G7'] + training_copy['G8'] + training_copy['G9'] + training_copy['G10'] + training_copy['G11'] + training_copy['G12'] + training_copy['G13'] + training_copy['G14'] + training_copy['G15'] + training_copy['G16']\n",
        "\n",
        "testing_copy['Total_P'] = testing_copy['P1'] + testing_copy['P2'] + testing_copy['P3'] + testing_copy['P4'] + testing_copy['P5'] + testing_copy['P6'] + testing_copy['P7']\n",
        "testing_copy['Total_N'] = testing_copy['N1'] + testing_copy['N2'] + testing_copy['N3'] + testing_copy['N4'] + testing_copy['N5'] + testing_copy['N6'] + testing_copy['N7']\n",
        "testing_copy['Total_G'] = testing_copy['G1'] + testing_copy['G2'] + testing_copy['G3'] + testing_copy['G4'] + testing_copy['G5'] + testing_copy['G6'] + testing_copy['G7'] + testing_copy['G8'] + testing_copy['G9'] + testing_copy['G10'] + testing_copy['G11'] + testing_copy['G12'] + testing_copy['G13'] + testing_copy['G14'] + testing_copy['G15'] + testing_copy['G16']\n",
        "\n",
        "training_copy = training_copy.drop(['P1','P2','P3','P4','P5','P6','P7','N1','N2','N3','N4','N5','N6','N7','G1','G2','G3','G4','G5','G6','G7','G8','G9','G10','G11','G12','G13','G14','G15','G16'], axis=1)\n",
        "testing_copy = testing_copy.drop(['P1','P2','P3','P4','P5','P6','P7','N1','N2','N3','N4','N5','N6','N7','G1','G2','G3','G4','G5','G6','G7','G8','G9','G10','G11','G12','G13','G14','G15','G16'], axis=1)"
      ],
      "execution_count": 0,
      "outputs": []
    },
    {
      "cell_type": "code",
      "metadata": {
        "id": "zcN6rzmDhNCu",
        "colab_type": "code",
        "outputId": "a6264c91-49e3-4788-cd12-c386300d2060",
        "colab": {
          "base_uri": "https://localhost:8080/",
          "height": 34
        }
      },
      "source": [
        "training_copy.shape"
      ],
      "execution_count": 0,
      "outputs": [
        {
          "output_type": "execute_result",
          "data": {
            "text/plain": [
              "(5106, 11)"
            ]
          },
          "metadata": {
            "tags": []
          },
          "execution_count": 19
        }
      ]
    },
    {
      "cell_type": "code",
      "metadata": {
        "id": "5-oIbgN-zkD5",
        "colab_type": "code",
        "outputId": "193d57c4-6182-47a0-c81e-e2030d4e956b",
        "colab": {
          "base_uri": "https://localhost:8080/",
          "height": 204
        }
      },
      "source": [
        "training_copy.to_excel('/content/drive/My Drive/Stats202_FinalProject/Figures/classification_preprocessing_data.xlsx')\n",
        "training_copy.head()"
      ],
      "execution_count": 60,
      "outputs": [
        {
          "output_type": "execute_result",
          "data": {
            "text/html": [
              "<div>\n",
              "<style scoped>\n",
              "    .dataframe tbody tr th:only-of-type {\n",
              "        vertical-align: middle;\n",
              "    }\n",
              "\n",
              "    .dataframe tbody tr th {\n",
              "        vertical-align: top;\n",
              "    }\n",
              "\n",
              "    .dataframe thead th {\n",
              "        text-align: right;\n",
              "    }\n",
              "</style>\n",
              "<table border=\"1\" class=\"dataframe\">\n",
              "  <thead>\n",
              "    <tr style=\"text-align: right;\">\n",
              "      <th></th>\n",
              "      <th>AssessmentiD</th>\n",
              "      <th>VisitDay</th>\n",
              "      <th>PANSS_Total</th>\n",
              "      <th>Country_Russia</th>\n",
              "      <th>Country_USA</th>\n",
              "      <th>TxGroup_Control</th>\n",
              "      <th>TxGroup_Treatment</th>\n",
              "      <th>LeadStatus</th>\n",
              "      <th>Total_P</th>\n",
              "      <th>Total_N</th>\n",
              "      <th>Total_G</th>\n",
              "    </tr>\n",
              "  </thead>\n",
              "  <tbody>\n",
              "    <tr>\n",
              "      <th>0</th>\n",
              "      <td>100679</td>\n",
              "      <td>0</td>\n",
              "      <td>107</td>\n",
              "      <td>0</td>\n",
              "      <td>1</td>\n",
              "      <td>1</td>\n",
              "      <td>0</td>\n",
              "      <td>0</td>\n",
              "      <td>30</td>\n",
              "      <td>24</td>\n",
              "      <td>53</td>\n",
              "    </tr>\n",
              "    <tr>\n",
              "      <th>1</th>\n",
              "      <td>101017</td>\n",
              "      <td>11</td>\n",
              "      <td>109</td>\n",
              "      <td>0</td>\n",
              "      <td>1</td>\n",
              "      <td>1</td>\n",
              "      <td>0</td>\n",
              "      <td>0</td>\n",
              "      <td>30</td>\n",
              "      <td>25</td>\n",
              "      <td>54</td>\n",
              "    </tr>\n",
              "    <tr>\n",
              "      <th>3</th>\n",
              "      <td>101533</td>\n",
              "      <td>25</td>\n",
              "      <td>80</td>\n",
              "      <td>0</td>\n",
              "      <td>1</td>\n",
              "      <td>1</td>\n",
              "      <td>0</td>\n",
              "      <td>1</td>\n",
              "      <td>19</td>\n",
              "      <td>22</td>\n",
              "      <td>39</td>\n",
              "    </tr>\n",
              "    <tr>\n",
              "      <th>4</th>\n",
              "      <td>100930</td>\n",
              "      <td>39</td>\n",
              "      <td>77</td>\n",
              "      <td>0</td>\n",
              "      <td>1</td>\n",
              "      <td>1</td>\n",
              "      <td>0</td>\n",
              "      <td>1</td>\n",
              "      <td>19</td>\n",
              "      <td>21</td>\n",
              "      <td>37</td>\n",
              "    </tr>\n",
              "    <tr>\n",
              "      <th>5</th>\n",
              "      <td>100471</td>\n",
              "      <td>53</td>\n",
              "      <td>75</td>\n",
              "      <td>0</td>\n",
              "      <td>1</td>\n",
              "      <td>1</td>\n",
              "      <td>0</td>\n",
              "      <td>1</td>\n",
              "      <td>18</td>\n",
              "      <td>20</td>\n",
              "      <td>37</td>\n",
              "    </tr>\n",
              "  </tbody>\n",
              "</table>\n",
              "</div>"
            ],
            "text/plain": [
              "   AssessmentiD  VisitDay  PANSS_Total  ...  Total_P  Total_N  Total_G\n",
              "0        100679         0          107  ...       30       24       53\n",
              "1        101017        11          109  ...       30       25       54\n",
              "3        101533        25           80  ...       19       22       39\n",
              "4        100930        39           77  ...       19       21       37\n",
              "5        100471        53           75  ...       18       20       37\n",
              "\n",
              "[5 rows x 11 columns]"
            ]
          },
          "metadata": {
            "tags": []
          },
          "execution_count": 60
        }
      ]
    },
    {
      "cell_type": "markdown",
      "metadata": {
        "id": "Dd2ClsQpg9Y9",
        "colab_type": "text"
      },
      "source": [
        "#####Test correlations of new columns to LeadStatus"
      ]
    },
    {
      "cell_type": "code",
      "metadata": {
        "id": "RZ6Im7sAg3xz",
        "colab_type": "code",
        "outputId": "5253a7e2-5be7-4a49-ef26-d99cb1ee7bac",
        "colab": {
          "base_uri": "https://localhost:8080/",
          "height": 221
        }
      },
      "source": [
        "correlations = training_copy.corr()['LeadStatus'].sort_values()\n",
        "pd.DataFrame(correlations).to_excel('/content/drive/My Drive/Stats202_FinalProject/Figures/classification_correlations_data.xlsx')\n",
        "\n",
        "print(correlations)"
      ],
      "execution_count": 64,
      "outputs": [
        {
          "output_type": "stream",
          "text": [
            "Country_Russia      -0.262025\n",
            "Total_N             -0.200459\n",
            "PANSS_Total         -0.197583\n",
            "Total_G             -0.193581\n",
            "Total_P             -0.126087\n",
            "TxGroup_Treatment   -0.001048\n",
            "TxGroup_Control      0.001048\n",
            "AssessmentiD         0.109325\n",
            "Country_USA          0.130874\n",
            "VisitDay             0.236742\n",
            "LeadStatus           1.000000\n",
            "Name: LeadStatus, dtype: float64\n"
          ],
          "name": "stdout"
        }
      ]
    },
    {
      "cell_type": "markdown",
      "metadata": {
        "id": "9XDFRbU_0Mbc",
        "colab_type": "text"
      },
      "source": [
        "####Add polynomial features"
      ]
    },
    {
      "cell_type": "code",
      "metadata": {
        "id": "gwNz1M0s0Rh1",
        "colab_type": "code",
        "outputId": "66514f8f-6bf4-4d21-923a-e750d81ac828",
        "colab": {
          "base_uri": "https://localhost:8080/",
          "height": 71
        }
      },
      "source": [
        "#create copy of data for polynomial testing\n",
        "training_poly = training_copy[['Total_N','Total_P','Total_G','PANSS_Total','VisitDay','LeadStatus']]\n",
        "testing_poly = testing_copy[['Total_N','Total_P','Total_G','PANSS_Total','VisitDay']]\n",
        "\n",
        "training_labels = training_poly['LeadStatus']\n",
        "training_poly = training_poly.drop(['LeadStatus'], axis=1)\n",
        "feature_names = ['Total_N','Total_P','Total_G','PANSS_Total','VisitDay']\n",
        "\n",
        "#imputer used to fill missing values\n",
        "from sklearn.preprocessing import Imputer\n",
        "imputer = Imputer(strategy= 'median')\n",
        "\n",
        "#impute missing values\n",
        "training_poly = imputer.fit_transform(training_poly)\n",
        "testing_poly = imputer.transform(testing_poly)\n",
        "\n"
      ],
      "execution_count": 0,
      "outputs": [
        {
          "output_type": "stream",
          "text": [
            "/usr/local/lib/python3.6/dist-packages/sklearn/utils/deprecation.py:66: DeprecationWarning: Class Imputer is deprecated; Imputer was deprecated in version 0.20 and will be removed in 0.22. Import impute.SimpleImputer from sklearn instead.\n",
            "  warnings.warn(msg, category=DeprecationWarning)\n"
          ],
          "name": "stderr"
        }
      ]
    },
    {
      "cell_type": "code",
      "metadata": {
        "id": "OqelNDnNIl6H",
        "colab_type": "code",
        "outputId": "4711aa68-d972-44b9-af0f-8295d52ee733",
        "colab": {
          "base_uri": "https://localhost:8080/",
          "height": 34
        }
      },
      "source": [
        "from sklearn.preprocessing import PolynomialFeatures\n",
        "\n",
        "poly_transformer = PolynomialFeatures(degree= 3)\n",
        "\n",
        "#train the polynomial features\n",
        "poly_transformer.fit(training_poly)\n",
        "\n",
        "#transform features\n",
        "training_poly = poly_transformer.transform(training_poly)\n",
        "testing_poly = poly_transformer.transform(testing_poly)\n",
        "print('Polynomial Features shape: ', training_poly.shape)"
      ],
      "execution_count": 0,
      "outputs": [
        {
          "output_type": "stream",
          "text": [
            "Polynomial Features shape:  (5106, 56)\n"
          ],
          "name": "stdout"
        }
      ]
    },
    {
      "cell_type": "code",
      "metadata": {
        "id": "Kw6CyICD2Ld8",
        "colab_type": "code",
        "outputId": "3254f58e-385b-4e64-b9b9-98783cbc66fc",
        "colab": {
          "base_uri": "https://localhost:8080/",
          "height": 357
        }
      },
      "source": [
        "poly_feature_names = poly_transformer.get_feature_names(input_features= feature_names)\n",
        "poly_feature_names[:20]"
      ],
      "execution_count": 0,
      "outputs": [
        {
          "output_type": "execute_result",
          "data": {
            "text/plain": [
              "['1',\n",
              " 'Total_N',\n",
              " 'Total_P',\n",
              " 'Total_G',\n",
              " 'PANSS_Total',\n",
              " 'VisitDay',\n",
              " 'Total_N^2',\n",
              " 'Total_N Total_P',\n",
              " 'Total_N Total_G',\n",
              " 'Total_N PANSS_Total',\n",
              " 'Total_N VisitDay',\n",
              " 'Total_P^2',\n",
              " 'Total_P Total_G',\n",
              " 'Total_P PANSS_Total',\n",
              " 'Total_P VisitDay',\n",
              " 'Total_G^2',\n",
              " 'Total_G PANSS_Total',\n",
              " 'Total_G VisitDay',\n",
              " 'PANSS_Total^2',\n",
              " 'PANSS_Total VisitDay']"
            ]
          },
          "metadata": {
            "tags": []
          },
          "execution_count": 24
        }
      ]
    },
    {
      "cell_type": "code",
      "metadata": {
        "id": "Z3Kex7uwcJfe",
        "colab_type": "code",
        "colab": {
          "base_uri": "https://localhost:8080/",
          "height": 34
        },
        "outputId": "fc66f166-8ecb-4ea3-aaeb-82372f2df663"
      },
      "source": [
        "len(poly_feature_names)"
      ],
      "execution_count": 66,
      "outputs": [
        {
          "output_type": "execute_result",
          "data": {
            "text/plain": [
              "56"
            ]
          },
          "metadata": {
            "tags": []
          },
          "execution_count": 66
        }
      ]
    },
    {
      "cell_type": "code",
      "metadata": {
        "id": "Qfg4qOvo2sUv",
        "colab_type": "code",
        "outputId": "f91aea00-48e0-45e1-d541-7522764ebf07",
        "colab": {
          "base_uri": "https://localhost:8080/",
          "height": 34
        }
      },
      "source": [
        "#create dataframe with poly features\n",
        "training_poly = pd.DataFrame(training_poly, columns= poly_feature_names)\n",
        "\n",
        "#add back LeadStatus\n",
        "training_poly['LeadStatus'] = training_labels\n",
        "\n",
        "#remove nan features\n",
        "training_poly = training_poly.dropna()\n",
        "\n",
        "training_poly.isnull().values.sum()\n",
        "\n"
      ],
      "execution_count": 0,
      "outputs": [
        {
          "output_type": "execute_result",
          "data": {
            "text/plain": [
              "0"
            ]
          },
          "metadata": {
            "tags": []
          },
          "execution_count": 25
        }
      ]
    },
    {
      "cell_type": "code",
      "metadata": {
        "id": "WXqBoKCq8V46",
        "colab_type": "code",
        "outputId": "9e1fbbcc-b879-490b-c2d7-7b91e30f0d84",
        "colab": {
          "base_uri": "https://localhost:8080/",
          "height": 258
        }
      },
      "source": [
        "training_poly.head()"
      ],
      "execution_count": 0,
      "outputs": [
        {
          "output_type": "execute_result",
          "data": {
            "text/html": [
              "<div>\n",
              "<style scoped>\n",
              "    .dataframe tbody tr th:only-of-type {\n",
              "        vertical-align: middle;\n",
              "    }\n",
              "\n",
              "    .dataframe tbody tr th {\n",
              "        vertical-align: top;\n",
              "    }\n",
              "\n",
              "    .dataframe thead th {\n",
              "        text-align: right;\n",
              "    }\n",
              "</style>\n",
              "<table border=\"1\" class=\"dataframe\">\n",
              "  <thead>\n",
              "    <tr style=\"text-align: right;\">\n",
              "      <th></th>\n",
              "      <th>1</th>\n",
              "      <th>Total_N</th>\n",
              "      <th>Total_P</th>\n",
              "      <th>Total_G</th>\n",
              "      <th>PANSS_Total</th>\n",
              "      <th>VisitDay</th>\n",
              "      <th>Total_N^2</th>\n",
              "      <th>Total_N Total_P</th>\n",
              "      <th>Total_N Total_G</th>\n",
              "      <th>Total_N PANSS_Total</th>\n",
              "      <th>Total_N VisitDay</th>\n",
              "      <th>Total_P^2</th>\n",
              "      <th>Total_P Total_G</th>\n",
              "      <th>Total_P PANSS_Total</th>\n",
              "      <th>Total_P VisitDay</th>\n",
              "      <th>Total_G^2</th>\n",
              "      <th>Total_G PANSS_Total</th>\n",
              "      <th>Total_G VisitDay</th>\n",
              "      <th>PANSS_Total^2</th>\n",
              "      <th>PANSS_Total VisitDay</th>\n",
              "      <th>VisitDay^2</th>\n",
              "      <th>Total_N^3</th>\n",
              "      <th>Total_N^2 Total_P</th>\n",
              "      <th>Total_N^2 Total_G</th>\n",
              "      <th>Total_N^2 PANSS_Total</th>\n",
              "      <th>Total_N^2 VisitDay</th>\n",
              "      <th>Total_N Total_P^2</th>\n",
              "      <th>Total_N Total_P Total_G</th>\n",
              "      <th>Total_N Total_P PANSS_Total</th>\n",
              "      <th>Total_N Total_P VisitDay</th>\n",
              "      <th>Total_N Total_G^2</th>\n",
              "      <th>Total_N Total_G PANSS_Total</th>\n",
              "      <th>Total_N Total_G VisitDay</th>\n",
              "      <th>Total_N PANSS_Total^2</th>\n",
              "      <th>Total_N PANSS_Total VisitDay</th>\n",
              "      <th>Total_N VisitDay^2</th>\n",
              "      <th>Total_P^3</th>\n",
              "      <th>Total_P^2 Total_G</th>\n",
              "      <th>Total_P^2 PANSS_Total</th>\n",
              "      <th>Total_P^2 VisitDay</th>\n",
              "      <th>Total_P Total_G^2</th>\n",
              "      <th>Total_P Total_G PANSS_Total</th>\n",
              "      <th>Total_P Total_G VisitDay</th>\n",
              "      <th>Total_P PANSS_Total^2</th>\n",
              "      <th>Total_P PANSS_Total VisitDay</th>\n",
              "      <th>Total_P VisitDay^2</th>\n",
              "      <th>Total_G^3</th>\n",
              "      <th>Total_G^2 PANSS_Total</th>\n",
              "      <th>Total_G^2 VisitDay</th>\n",
              "      <th>Total_G PANSS_Total^2</th>\n",
              "      <th>Total_G PANSS_Total VisitDay</th>\n",
              "      <th>Total_G VisitDay^2</th>\n",
              "      <th>PANSS_Total^3</th>\n",
              "      <th>PANSS_Total^2 VisitDay</th>\n",
              "      <th>PANSS_Total VisitDay^2</th>\n",
              "      <th>VisitDay^3</th>\n",
              "      <th>LeadStatus</th>\n",
              "    </tr>\n",
              "  </thead>\n",
              "  <tbody>\n",
              "    <tr>\n",
              "      <th>0</th>\n",
              "      <td>1.0</td>\n",
              "      <td>24.0</td>\n",
              "      <td>30.0</td>\n",
              "      <td>53.0</td>\n",
              "      <td>107.0</td>\n",
              "      <td>0.0</td>\n",
              "      <td>576.0</td>\n",
              "      <td>720.0</td>\n",
              "      <td>1272.0</td>\n",
              "      <td>2568.0</td>\n",
              "      <td>0.0</td>\n",
              "      <td>900.0</td>\n",
              "      <td>1590.0</td>\n",
              "      <td>3210.0</td>\n",
              "      <td>0.0</td>\n",
              "      <td>2809.0</td>\n",
              "      <td>5671.0</td>\n",
              "      <td>0.0</td>\n",
              "      <td>11449.0</td>\n",
              "      <td>0.0</td>\n",
              "      <td>0.0</td>\n",
              "      <td>13824.0</td>\n",
              "      <td>17280.0</td>\n",
              "      <td>30528.0</td>\n",
              "      <td>61632.0</td>\n",
              "      <td>0.0</td>\n",
              "      <td>21600.0</td>\n",
              "      <td>38160.0</td>\n",
              "      <td>77040.0</td>\n",
              "      <td>0.0</td>\n",
              "      <td>67416.0</td>\n",
              "      <td>136104.0</td>\n",
              "      <td>0.0</td>\n",
              "      <td>274776.0</td>\n",
              "      <td>0.0</td>\n",
              "      <td>0.0</td>\n",
              "      <td>27000.0</td>\n",
              "      <td>47700.0</td>\n",
              "      <td>96300.0</td>\n",
              "      <td>0.0</td>\n",
              "      <td>84270.0</td>\n",
              "      <td>170130.0</td>\n",
              "      <td>0.0</td>\n",
              "      <td>343470.0</td>\n",
              "      <td>0.0</td>\n",
              "      <td>0.0</td>\n",
              "      <td>148877.0</td>\n",
              "      <td>300563.0</td>\n",
              "      <td>0.0</td>\n",
              "      <td>606797.0</td>\n",
              "      <td>0.0</td>\n",
              "      <td>0.0</td>\n",
              "      <td>1225043.0</td>\n",
              "      <td>0.0</td>\n",
              "      <td>0.0</td>\n",
              "      <td>0.0</td>\n",
              "      <td>0.0</td>\n",
              "    </tr>\n",
              "    <tr>\n",
              "      <th>1</th>\n",
              "      <td>1.0</td>\n",
              "      <td>25.0</td>\n",
              "      <td>30.0</td>\n",
              "      <td>54.0</td>\n",
              "      <td>109.0</td>\n",
              "      <td>11.0</td>\n",
              "      <td>625.0</td>\n",
              "      <td>750.0</td>\n",
              "      <td>1350.0</td>\n",
              "      <td>2725.0</td>\n",
              "      <td>275.0</td>\n",
              "      <td>900.0</td>\n",
              "      <td>1620.0</td>\n",
              "      <td>3270.0</td>\n",
              "      <td>330.0</td>\n",
              "      <td>2916.0</td>\n",
              "      <td>5886.0</td>\n",
              "      <td>594.0</td>\n",
              "      <td>11881.0</td>\n",
              "      <td>1199.0</td>\n",
              "      <td>121.0</td>\n",
              "      <td>15625.0</td>\n",
              "      <td>18750.0</td>\n",
              "      <td>33750.0</td>\n",
              "      <td>68125.0</td>\n",
              "      <td>6875.0</td>\n",
              "      <td>22500.0</td>\n",
              "      <td>40500.0</td>\n",
              "      <td>81750.0</td>\n",
              "      <td>8250.0</td>\n",
              "      <td>72900.0</td>\n",
              "      <td>147150.0</td>\n",
              "      <td>14850.0</td>\n",
              "      <td>297025.0</td>\n",
              "      <td>29975.0</td>\n",
              "      <td>3025.0</td>\n",
              "      <td>27000.0</td>\n",
              "      <td>48600.0</td>\n",
              "      <td>98100.0</td>\n",
              "      <td>9900.0</td>\n",
              "      <td>87480.0</td>\n",
              "      <td>176580.0</td>\n",
              "      <td>17820.0</td>\n",
              "      <td>356430.0</td>\n",
              "      <td>35970.0</td>\n",
              "      <td>3630.0</td>\n",
              "      <td>157464.0</td>\n",
              "      <td>317844.0</td>\n",
              "      <td>32076.0</td>\n",
              "      <td>641574.0</td>\n",
              "      <td>64746.0</td>\n",
              "      <td>6534.0</td>\n",
              "      <td>1295029.0</td>\n",
              "      <td>130691.0</td>\n",
              "      <td>13189.0</td>\n",
              "      <td>1331.0</td>\n",
              "      <td>0.0</td>\n",
              "    </tr>\n",
              "    <tr>\n",
              "      <th>3</th>\n",
              "      <td>1.0</td>\n",
              "      <td>21.0</td>\n",
              "      <td>19.0</td>\n",
              "      <td>37.0</td>\n",
              "      <td>77.0</td>\n",
              "      <td>39.0</td>\n",
              "      <td>441.0</td>\n",
              "      <td>399.0</td>\n",
              "      <td>777.0</td>\n",
              "      <td>1617.0</td>\n",
              "      <td>819.0</td>\n",
              "      <td>361.0</td>\n",
              "      <td>703.0</td>\n",
              "      <td>1463.0</td>\n",
              "      <td>741.0</td>\n",
              "      <td>1369.0</td>\n",
              "      <td>2849.0</td>\n",
              "      <td>1443.0</td>\n",
              "      <td>5929.0</td>\n",
              "      <td>3003.0</td>\n",
              "      <td>1521.0</td>\n",
              "      <td>9261.0</td>\n",
              "      <td>8379.0</td>\n",
              "      <td>16317.0</td>\n",
              "      <td>33957.0</td>\n",
              "      <td>17199.0</td>\n",
              "      <td>7581.0</td>\n",
              "      <td>14763.0</td>\n",
              "      <td>30723.0</td>\n",
              "      <td>15561.0</td>\n",
              "      <td>28749.0</td>\n",
              "      <td>59829.0</td>\n",
              "      <td>30303.0</td>\n",
              "      <td>124509.0</td>\n",
              "      <td>63063.0</td>\n",
              "      <td>31941.0</td>\n",
              "      <td>6859.0</td>\n",
              "      <td>13357.0</td>\n",
              "      <td>27797.0</td>\n",
              "      <td>14079.0</td>\n",
              "      <td>26011.0</td>\n",
              "      <td>54131.0</td>\n",
              "      <td>27417.0</td>\n",
              "      <td>112651.0</td>\n",
              "      <td>57057.0</td>\n",
              "      <td>28899.0</td>\n",
              "      <td>50653.0</td>\n",
              "      <td>105413.0</td>\n",
              "      <td>53391.0</td>\n",
              "      <td>219373.0</td>\n",
              "      <td>111111.0</td>\n",
              "      <td>56277.0</td>\n",
              "      <td>456533.0</td>\n",
              "      <td>231231.0</td>\n",
              "      <td>117117.0</td>\n",
              "      <td>59319.0</td>\n",
              "      <td>1.0</td>\n",
              "    </tr>\n",
              "    <tr>\n",
              "      <th>4</th>\n",
              "      <td>1.0</td>\n",
              "      <td>20.0</td>\n",
              "      <td>18.0</td>\n",
              "      <td>37.0</td>\n",
              "      <td>75.0</td>\n",
              "      <td>53.0</td>\n",
              "      <td>400.0</td>\n",
              "      <td>360.0</td>\n",
              "      <td>740.0</td>\n",
              "      <td>1500.0</td>\n",
              "      <td>1060.0</td>\n",
              "      <td>324.0</td>\n",
              "      <td>666.0</td>\n",
              "      <td>1350.0</td>\n",
              "      <td>954.0</td>\n",
              "      <td>1369.0</td>\n",
              "      <td>2775.0</td>\n",
              "      <td>1961.0</td>\n",
              "      <td>5625.0</td>\n",
              "      <td>3975.0</td>\n",
              "      <td>2809.0</td>\n",
              "      <td>8000.0</td>\n",
              "      <td>7200.0</td>\n",
              "      <td>14800.0</td>\n",
              "      <td>30000.0</td>\n",
              "      <td>21200.0</td>\n",
              "      <td>6480.0</td>\n",
              "      <td>13320.0</td>\n",
              "      <td>27000.0</td>\n",
              "      <td>19080.0</td>\n",
              "      <td>27380.0</td>\n",
              "      <td>55500.0</td>\n",
              "      <td>39220.0</td>\n",
              "      <td>112500.0</td>\n",
              "      <td>79500.0</td>\n",
              "      <td>56180.0</td>\n",
              "      <td>5832.0</td>\n",
              "      <td>11988.0</td>\n",
              "      <td>24300.0</td>\n",
              "      <td>17172.0</td>\n",
              "      <td>24642.0</td>\n",
              "      <td>49950.0</td>\n",
              "      <td>35298.0</td>\n",
              "      <td>101250.0</td>\n",
              "      <td>71550.0</td>\n",
              "      <td>50562.0</td>\n",
              "      <td>50653.0</td>\n",
              "      <td>102675.0</td>\n",
              "      <td>72557.0</td>\n",
              "      <td>208125.0</td>\n",
              "      <td>147075.0</td>\n",
              "      <td>103933.0</td>\n",
              "      <td>421875.0</td>\n",
              "      <td>298125.0</td>\n",
              "      <td>210675.0</td>\n",
              "      <td>148877.0</td>\n",
              "      <td>1.0</td>\n",
              "    </tr>\n",
              "    <tr>\n",
              "      <th>5</th>\n",
              "      <td>1.0</td>\n",
              "      <td>19.0</td>\n",
              "      <td>17.0</td>\n",
              "      <td>36.0</td>\n",
              "      <td>72.0</td>\n",
              "      <td>67.0</td>\n",
              "      <td>361.0</td>\n",
              "      <td>323.0</td>\n",
              "      <td>684.0</td>\n",
              "      <td>1368.0</td>\n",
              "      <td>1273.0</td>\n",
              "      <td>289.0</td>\n",
              "      <td>612.0</td>\n",
              "      <td>1224.0</td>\n",
              "      <td>1139.0</td>\n",
              "      <td>1296.0</td>\n",
              "      <td>2592.0</td>\n",
              "      <td>2412.0</td>\n",
              "      <td>5184.0</td>\n",
              "      <td>4824.0</td>\n",
              "      <td>4489.0</td>\n",
              "      <td>6859.0</td>\n",
              "      <td>6137.0</td>\n",
              "      <td>12996.0</td>\n",
              "      <td>25992.0</td>\n",
              "      <td>24187.0</td>\n",
              "      <td>5491.0</td>\n",
              "      <td>11628.0</td>\n",
              "      <td>23256.0</td>\n",
              "      <td>21641.0</td>\n",
              "      <td>24624.0</td>\n",
              "      <td>49248.0</td>\n",
              "      <td>45828.0</td>\n",
              "      <td>98496.0</td>\n",
              "      <td>91656.0</td>\n",
              "      <td>85291.0</td>\n",
              "      <td>4913.0</td>\n",
              "      <td>10404.0</td>\n",
              "      <td>20808.0</td>\n",
              "      <td>19363.0</td>\n",
              "      <td>22032.0</td>\n",
              "      <td>44064.0</td>\n",
              "      <td>41004.0</td>\n",
              "      <td>88128.0</td>\n",
              "      <td>82008.0</td>\n",
              "      <td>76313.0</td>\n",
              "      <td>46656.0</td>\n",
              "      <td>93312.0</td>\n",
              "      <td>86832.0</td>\n",
              "      <td>186624.0</td>\n",
              "      <td>173664.0</td>\n",
              "      <td>161604.0</td>\n",
              "      <td>373248.0</td>\n",
              "      <td>347328.0</td>\n",
              "      <td>323208.0</td>\n",
              "      <td>300763.0</td>\n",
              "      <td>1.0</td>\n",
              "    </tr>\n",
              "  </tbody>\n",
              "</table>\n",
              "</div>"
            ],
            "text/plain": [
              "     1  Total_N  Total_P  ...  PANSS_Total VisitDay^2  VisitDay^3  LeadStatus\n",
              "0  1.0     24.0     30.0  ...                     0.0         0.0         0.0\n",
              "1  1.0     25.0     30.0  ...                 13189.0      1331.0         0.0\n",
              "3  1.0     21.0     19.0  ...                117117.0     59319.0         1.0\n",
              "4  1.0     20.0     18.0  ...                210675.0    148877.0         1.0\n",
              "5  1.0     19.0     17.0  ...                323208.0    300763.0         1.0\n",
              "\n",
              "[5 rows x 57 columns]"
            ]
          },
          "metadata": {
            "tags": []
          },
          "execution_count": 26
        }
      ]
    },
    {
      "cell_type": "code",
      "metadata": {
        "id": "vSLtyMS74ZZ0",
        "colab_type": "code",
        "outputId": "06b85c44-c376-45e7-b831-9d580e924de9",
        "colab": {
          "base_uri": "https://localhost:8080/",
          "height": 799
        }
      },
      "source": [
        "#find correlations between poly features and LeadStatus\n",
        "poly_corrs = training_poly.corr()['LeadStatus'].sort_values()\n",
        "poly_corrs = poly_corrs.dropna()\n",
        "\n",
        "#print most negative and most positive correlations\n",
        "print('Most negative: \\n', poly_corrs.head(20),'\\n')\n",
        "print('Most positive: \\n', poly_corrs.tail(20),'\\n')"
      ],
      "execution_count": 0,
      "outputs": [
        {
          "output_type": "stream",
          "text": [
            "Most negative: \n",
            " VisitDay                       -0.119923\n",
            "VisitDay^2                     -0.085072\n",
            "Total_P VisitDay^2             -0.060504\n",
            "Total_G VisitDay               -0.055624\n",
            "VisitDay^3                     -0.055436\n",
            "PANSS_Total VisitDay           -0.052923\n",
            "PANSS_Total VisitDay^2         -0.051977\n",
            "Total_G VisitDay^2             -0.051368\n",
            "Total_N VisitDay               -0.049476\n",
            "Total_P VisitDay               -0.046038\n",
            "Total_N VisitDay^2             -0.045379\n",
            "Total_N^2 VisitDay              0.011582\n",
            "Total_G^2 VisitDay              0.017258\n",
            "Total_N PANSS_Total VisitDay    0.017352\n",
            "Total_N Total_G VisitDay        0.017657\n",
            "Total_G PANSS_Total VisitDay    0.020663\n",
            "PANSS_Total^2 VisitDay          0.022663\n",
            "Total_N Total_P VisitDay        0.023784\n",
            "Total_P Total_G VisitDay        0.030053\n",
            "Total_P PANSS_Total VisitDay    0.031574\n",
            "Name: LeadStatus, dtype: float64 \n",
            "\n",
            "Most positive: \n",
            " Total_N Total_G^2              0.202989\n",
            "Total_N Total_P PANSS_Total    0.203886\n",
            "Total_G^2 PANSS_Total          0.206777\n",
            "Total_P PANSS_Total^2          0.207358\n",
            "Total_N PANSS_Total            0.207562\n",
            "Total_P Total_G^2              0.207919\n",
            "Total_P Total_G PANSS_Total    0.209318\n",
            "Total_N Total_P Total_G        0.209898\n",
            "Total_G PANSS_Total^2          0.211502\n",
            "Total_N Total_P                0.212204\n",
            "PANSS_Total^3                  0.212226\n",
            "Total_P PANSS_Total            0.212861\n",
            "Total_N Total_G                0.214010\n",
            "Total_G^2                      0.215065\n",
            "Total_P Total_G                0.215961\n",
            "Total_G PANSS_Total            0.224667\n",
            "Total_G                        0.226312\n",
            "PANSS_Total^2                  0.226742\n",
            "PANSS_Total                    0.236687\n",
            "LeadStatus                     1.000000\n",
            "Name: LeadStatus, dtype: float64 \n",
            "\n"
          ],
          "name": "stdout"
        }
      ]
    },
    {
      "cell_type": "code",
      "metadata": {
        "id": "XQNJWPN--19V",
        "colab_type": "code",
        "outputId": "413da25f-9e76-446e-8abd-6872c6b19ec1",
        "colab": {
          "base_uri": "https://localhost:8080/",
          "height": 51
        }
      },
      "source": [
        "#put test features into dataframe\n",
        "testing_poly = pd.DataFrame(testing_poly, columns= poly_transformer.get_feature_names(input_features= feature_names))\n",
        "\n",
        "#merge poly features into training dataframe\n",
        "training_poly['AssessmentiD'] = training_copy['AssessmentiD']\n",
        "training_poly = training_copy.merge(training_poly, on='AssessmentiD', how='left')\n",
        "\n",
        "#merge poly featuers into testing dataframe\n",
        "testing_poly['AssessmentiD'] = testing_copy['AssessmentiD']\n",
        "testing_poly = testing_copy.merge(testing_poly, on='AssessmentiD', how='left')\n",
        "\n",
        "#Align testing and training dataframes\n",
        "training_poly, testing_poly = training_poly.align(testing_poly, join='inner', axis=1)\n",
        "\n",
        "print(\"Training data with poly features shape: \", training_poly.shape)\n",
        "print(\"Testing data with poly features shape: \", testing_poly.shape)"
      ],
      "execution_count": 0,
      "outputs": [
        {
          "output_type": "stream",
          "text": [
            "Training data with poly features shape:  (5106, 66)\n",
            "Testing data with poly features shape:  (1962, 66)\n"
          ],
          "name": "stdout"
        }
      ]
    },
    {
      "cell_type": "markdown",
      "metadata": {
        "id": "QyR8NG_N8S_t",
        "colab_type": "text"
      },
      "source": [
        "###Split into training and validation sets and scale values"
      ]
    },
    {
      "cell_type": "code",
      "metadata": {
        "id": "uzP1-hNbiHGr",
        "colab_type": "code",
        "colab": {}
      },
      "source": [
        "#helper function to scale and impute data\n",
        "def scale_impute(train_set, val_set, test_set):\n",
        "  from sklearn.model_selection import train_test_split\n",
        "  from sklearn.preprocessing import MinMaxScaler\n",
        "\n",
        "  #fill in missing values\n",
        "  imputer.fit(train_set)\n",
        "\n",
        "  #transform both training and testing data\n",
        "  train_set = imputer.transform(train_set)\n",
        "  val_set = imputer.transform(val_set)\n",
        "  test_set = imputer.transform(test_set)\n",
        "\n",
        "  #Scale each featuer to 0-1\n",
        "  scaler = MinMaxScaler(feature_range= (0,1))\n",
        "\n",
        "  scaler.fit(train_set)\n",
        "  train_set = scaler.transform(train_set)\n",
        "  val_set = scaler.transform(val_set)\n",
        "  test_set = scaler.transform(test_set)\n",
        "\n",
        "  return (train_set, val_set, test_set)"
      ],
      "execution_count": 0,
      "outputs": []
    },
    {
      "cell_type": "code",
      "metadata": {
        "id": "30Is8FHbVY6S",
        "colab_type": "code",
        "colab": {}
      },
      "source": [
        "from sklearn.model_selection import train_test_split\n",
        "from sklearn.preprocessing import MinMaxScaler\n",
        "\n",
        "X_train, X_val, y_train, y_val = train_test_split(training_poly, training_copy['LeadStatus'], test_size = 0.2, random_state = 1 )\n"
      ],
      "execution_count": 0,
      "outputs": []
    },
    {
      "cell_type": "code",
      "metadata": {
        "id": "r8NjAwnHVehc",
        "colab_type": "code",
        "outputId": "b2f4ab75-8c0c-4b40-88c8-eaf3bc572384",
        "colab": {
          "base_uri": "https://localhost:8080/",
          "height": 68
        }
      },
      "source": [
        "#scale values and impute missing values\n",
        "X_train, X_val, testing_scaled = scale_impute(X_train, X_val, testing_poly)\n",
        "\n",
        "print('Training data shape: ', X_train.shape)\n",
        "print('Validation data shape: ', X_val.shape)\n",
        "print('Testing data shape: ', testing_scaled.shape)"
      ],
      "execution_count": 0,
      "outputs": [
        {
          "output_type": "stream",
          "text": [
            "Training data shape:  (4084, 66)\n",
            "Validation data shape:  (1022, 66)\n",
            "Testing data shape:  (1962, 66)\n"
          ],
          "name": "stdout"
        }
      ]
    },
    {
      "cell_type": "markdown",
      "metadata": {
        "id": "jP4C6k6rFNi-",
        "colab_type": "text"
      },
      "source": [
        "###Logistic Regression Fit"
      ]
    },
    {
      "cell_type": "code",
      "metadata": {
        "id": "PRRem4ChMN3X",
        "colab_type": "code",
        "outputId": "3a33495a-f69b-48eb-b7bc-b57a0d9237c7",
        "colab": {
          "base_uri": "https://localhost:8080/",
          "height": 136
        }
      },
      "source": [
        "from sklearn.linear_model import LogisticRegression\n",
        "from sklearn.metrics import zero_one_loss\n",
        "from sklearn.metrics import accuracy_score\n",
        "log_reg = LogisticRegression()\n",
        "\n",
        "#train on training data\n",
        "log_reg.fit(X_train, y_train)\n"
      ],
      "execution_count": 85,
      "outputs": [
        {
          "output_type": "stream",
          "text": [
            "/usr/local/lib/python3.6/dist-packages/sklearn/linear_model/logistic.py:432: FutureWarning: Default solver will be changed to 'lbfgs' in 0.22. Specify a solver to silence this warning.\n",
            "  FutureWarning)\n"
          ],
          "name": "stderr"
        },
        {
          "output_type": "execute_result",
          "data": {
            "text/plain": [
              "LogisticRegression(C=1.0, class_weight=None, dual=False, fit_intercept=True,\n",
              "                   intercept_scaling=1, l1_ratio=None, max_iter=100,\n",
              "                   multi_class='warn', n_jobs=None, penalty='l2',\n",
              "                   random_state=None, solver='warn', tol=0.0001, verbose=0,\n",
              "                   warm_start=False)"
            ]
          },
          "metadata": {
            "tags": []
          },
          "execution_count": 85
        }
      ]
    },
    {
      "cell_type": "code",
      "metadata": {
        "id": "6EZqGDrkKd3u",
        "colab_type": "code",
        "colab": {}
      },
      "source": [
        "#predict\n",
        "log_reg_prob = log_reg.predict_proba(X_val)[:,1]\n",
        "log_pred = log_reg.predict(X_val)"
      ],
      "execution_count": 0,
      "outputs": []
    },
    {
      "cell_type": "code",
      "metadata": {
        "id": "ONVVk63XKvZ6",
        "colab_type": "code",
        "outputId": "52797ab8-4bb5-4197-b2f9-21db91baecd6",
        "colab": {
          "base_uri": "https://localhost:8080/",
          "height": 68
        }
      },
      "source": [
        "log_reg_prob[:15]"
      ],
      "execution_count": 87,
      "outputs": [
        {
          "output_type": "execute_result",
          "data": {
            "text/plain": [
              "array([0.70490395, 0.48099814, 0.87004942, 0.25950655, 0.26972165,\n",
              "       0.84238932, 0.11888896, 0.31765884, 0.09194791, 0.37003172,\n",
              "       0.49795331, 0.59475455, 0.75796535, 0.43570207, 0.1993426 ])"
            ]
          },
          "metadata": {
            "tags": []
          },
          "execution_count": 87
        }
      ]
    },
    {
      "cell_type": "code",
      "metadata": {
        "id": "_k38TApVe9Yr",
        "colab_type": "code",
        "colab": {
          "base_uri": "https://localhost:8080/",
          "height": 34
        },
        "outputId": "b395c274-c4a8-4c05-96fc-ee33c8405613"
      },
      "source": [
        "zero_one_loss(y_val,log_pred)"
      ],
      "execution_count": 88,
      "outputs": [
        {
          "output_type": "execute_result",
          "data": {
            "text/plain": [
              "0.23972602739726023"
            ]
          },
          "metadata": {
            "tags": []
          },
          "execution_count": 88
        }
      ]
    },
    {
      "cell_type": "code",
      "metadata": {
        "id": "r6hOPoVSe29h",
        "colab_type": "code",
        "colab": {
          "base_uri": "https://localhost:8080/",
          "height": 34
        },
        "outputId": "f87fc33d-a8e1-4c34-9fa5-ef5ce7c2061f"
      },
      "source": [
        "zero_one_loss(y_val,log_pred,normalize=False)"
      ],
      "execution_count": 89,
      "outputs": [
        {
          "output_type": "execute_result",
          "data": {
            "text/plain": [
              "245"
            ]
          },
          "metadata": {
            "tags": []
          },
          "execution_count": 89
        }
      ]
    },
    {
      "cell_type": "code",
      "metadata": {
        "id": "yK7I8pY6jxK6",
        "colab_type": "code",
        "colab": {
          "base_uri": "https://localhost:8080/",
          "height": 34
        },
        "outputId": "860c96d4-c677-453e-e0b6-9cc362a1fec1"
      },
      "source": [
        "accuracy = accuracy_score(y_val, log_pred)\n",
        "print(\"Accuracy: %.2f%%\" % (accuracy * 100.0))"
      ],
      "execution_count": 90,
      "outputs": [
        {
          "output_type": "stream",
          "text": [
            "Accuracy: 76.03%\n"
          ],
          "name": "stdout"
        }
      ]
    },
    {
      "cell_type": "markdown",
      "metadata": {
        "id": "wXWc412bMUD1",
        "colab_type": "text"
      },
      "source": [
        "####Predict on test data"
      ]
    },
    {
      "cell_type": "code",
      "metadata": {
        "id": "RVLNDZvBMYro",
        "colab_type": "code",
        "outputId": "bea41df7-f6f5-4435-d566-1758dd1220e2",
        "colab": {
          "base_uri": "https://localhost:8080/"
        }
      },
      "source": [
        "test_prob = log_reg.predict_proba(testing_scaled)[:,1]\n",
        "test_prob[:15]\n",
        "\n",
        "test_pred = log_reg.predict(testing_scaled)\n",
        "test_pred[:15]"
      ],
      "execution_count": 0,
      "outputs": [
        {
          "output_type": "execute_result",
          "data": {
            "text/plain": [
              "array([1, 0, 1, 1, 1, 0, 1, 1, 1, 1, 0, 1, 1, 1, 1])"
            ]
          },
          "metadata": {
            "tags": []
          },
          "execution_count": 35
        }
      ]
    },
    {
      "cell_type": "code",
      "metadata": {
        "id": "z8x73Iu6MoED",
        "colab_type": "code",
        "colab": {}
      },
      "source": [
        "results = pd.DataFrame(testing_poly['AssessmentiD'])\n",
        "results.rename(columns={\"AssessmentiD\":\"AssessmentID\"})\n",
        "results['LeadStatus'] = test_prob\n",
        "\n",
        "results.to_csv('classification_submission.csv', index = False)"
      ],
      "execution_count": 0,
      "outputs": []
    },
    {
      "cell_type": "markdown",
      "metadata": {
        "id": "atSWWuFY-Q3h",
        "colab_type": "text"
      },
      "source": [
        "###Random Forest Classifier"
      ]
    },
    {
      "cell_type": "code",
      "metadata": {
        "id": "PyBVmcJh-56B",
        "colab_type": "code",
        "colab": {}
      },
      "source": [
        "from sklearn.ensemble import RandomForestClassifier\n",
        "from sklearn.metrics import zero_one_loss\n",
        "from sklearn.metrics import accuracy_score"
      ],
      "execution_count": 0,
      "outputs": []
    },
    {
      "cell_type": "code",
      "metadata": {
        "id": "0Ovwam1k-WoK",
        "colab_type": "code",
        "outputId": "6180f961-f3ee-4d0f-caa1-4b2161e97d31",
        "colab": {
          "base_uri": "https://localhost:8080/"
        }
      },
      "source": [
        "rnd_class = RandomForestClassifier(n_estimators=100, max_leaf_nodes= 6, n_jobs=-1)\n",
        "rnd_class.fit(X_train, y_train)"
      ],
      "execution_count": 0,
      "outputs": [
        {
          "output_type": "execute_result",
          "data": {
            "text/plain": [
              "RandomForestClassifier(bootstrap=True, class_weight=None, criterion='gini',\n",
              "                       max_depth=None, max_features='auto', max_leaf_nodes=6,\n",
              "                       min_impurity_decrease=0.0, min_impurity_split=None,\n",
              "                       min_samples_leaf=1, min_samples_split=2,\n",
              "                       min_weight_fraction_leaf=0.0, n_estimators=100,\n",
              "                       n_jobs=-1, oob_score=False, random_state=None, verbose=0,\n",
              "                       warm_start=False)"
            ]
          },
          "metadata": {
            "tags": []
          },
          "execution_count": 38
        }
      ]
    },
    {
      "cell_type": "code",
      "metadata": {
        "id": "lAq8rFDDC-Iv",
        "colab_type": "code",
        "colab": {}
      },
      "source": [
        "predictions = rnd_class.predict(X_val)"
      ],
      "execution_count": 0,
      "outputs": []
    },
    {
      "cell_type": "code",
      "metadata": {
        "id": "uCpFCeQDDcyZ",
        "colab_type": "code",
        "outputId": "7835c663-ae97-40e7-8f3c-96b2efd91c40",
        "colab": {
          "base_uri": "https://localhost:8080/"
        }
      },
      "source": [
        "predictions[0:100]"
      ],
      "execution_count": 0,
      "outputs": [
        {
          "output_type": "execute_result",
          "data": {
            "text/plain": [
              "array([1, 0, 1, 0, 0, 1, 0, 0, 0, 0, 0, 1, 1, 1, 0, 0, 1, 1, 1, 0, 0, 1,\n",
              "       0, 0, 1, 1, 0, 0, 1, 1, 1, 1, 1, 0, 0, 1, 0, 1, 1, 1, 1, 1, 1, 0,\n",
              "       1, 1, 0, 0, 1, 1, 1, 0, 0, 0, 0, 1, 1, 0, 1, 0, 1, 1, 1, 1, 1, 1,\n",
              "       0, 1, 0, 1, 1, 1, 1, 1, 1, 0, 1, 0, 0, 0, 0, 1, 1, 1, 1, 1, 0, 0,\n",
              "       1, 1, 0, 0, 0, 0, 1, 1, 0, 0, 1, 0])"
            ]
          },
          "metadata": {
            "tags": []
          },
          "execution_count": 40
        }
      ]
    },
    {
      "cell_type": "code",
      "metadata": {
        "id": "SMNvN1CcDh4c",
        "colab_type": "code",
        "outputId": "08b38bd9-624c-44f4-a6ed-236e911f4bf7",
        "colab": {
          "base_uri": "https://localhost:8080/"
        }
      },
      "source": [
        "zero_one_loss(y_val,predictions)"
      ],
      "execution_count": 0,
      "outputs": [
        {
          "output_type": "execute_result",
          "data": {
            "text/plain": [
              "0.19569471624266144"
            ]
          },
          "metadata": {
            "tags": []
          },
          "execution_count": 41
        }
      ]
    },
    {
      "cell_type": "code",
      "metadata": {
        "id": "iJsyryrPHCZE",
        "colab_type": "code",
        "outputId": "a4bed0a1-f56c-45af-da37-f6dbf4725d0f",
        "colab": {
          "base_uri": "https://localhost:8080/"
        }
      },
      "source": [
        "zero_one_loss(y_val,predictions,normalize=False)"
      ],
      "execution_count": 0,
      "outputs": [
        {
          "output_type": "execute_result",
          "data": {
            "text/plain": [
              "200"
            ]
          },
          "metadata": {
            "tags": []
          },
          "execution_count": 42
        }
      ]
    },
    {
      "cell_type": "code",
      "metadata": {
        "id": "hi9xkOmOjTLP",
        "colab_type": "code",
        "colab": {
          "base_uri": "https://localhost:8080/",
          "height": 34
        },
        "outputId": "7c25951a-0d5e-4e1f-d0cd-547d7e2aa345"
      },
      "source": [
        "accuracy = accuracy_score(y_val, predictions)\n",
        "print(\"Accuracy: %.2f%%\" % (accuracy * 100.0))"
      ],
      "execution_count": 84,
      "outputs": [
        {
          "output_type": "stream",
          "text": [
            "Accuracy: 80.43%\n"
          ],
          "name": "stdout"
        }
      ]
    },
    {
      "cell_type": "markdown",
      "metadata": {
        "id": "qYWpGdADWqnk",
        "colab_type": "text"
      },
      "source": [
        "Random forest incorrectly classified only 200 values"
      ]
    },
    {
      "cell_type": "markdown",
      "metadata": {
        "id": "I6phzdW9HxKO",
        "colab_type": "text"
      },
      "source": [
        "####Predict study E \n",
        "\n"
      ]
    },
    {
      "cell_type": "code",
      "metadata": {
        "id": "31Bzbc3kOK03",
        "colab_type": "code",
        "colab": {}
      },
      "source": [
        "final_predictions = rnd_class.predict_proba(testing_scaled)"
      ],
      "execution_count": 0,
      "outputs": []
    },
    {
      "cell_type": "code",
      "metadata": {
        "id": "3l6Qs73eSUfw",
        "colab_type": "code",
        "outputId": "e1bfc85a-245f-4fa3-a994-a4ab79ae1ba1",
        "colab": {
          "base_uri": "https://localhost:8080/"
        }
      },
      "source": [
        "final_preds = rnd_class.predict_proba(testing_scaled)[:,1]\n",
        "final_preds[0:100]"
      ],
      "execution_count": 0,
      "outputs": [
        {
          "output_type": "execute_result",
          "data": {
            "text/plain": [
              "array([0.44279454, 0.37229636, 0.4481652 , 0.49255744, 0.48170685,\n",
              "       0.37240323, 0.44443849, 0.48140961, 0.47621763, 0.47222896,\n",
              "       0.36624033, 0.43237095, 0.47006083, 0.46059618, 0.46605173,\n",
              "       0.36938113, 0.45400814, 0.50483195, 0.51536468, 0.32185409,\n",
              "       0.39126164, 0.42750374, 0.41143168, 0.4392001 , 0.33125307,\n",
              "       0.33125307, 0.37439408, 0.40907978, 0.4148954 , 0.36938049,\n",
              "       0.45255234, 0.46494672, 0.40635311, 0.40715391, 0.33125307,\n",
              "       0.38466567, 0.41687096, 0.41414429, 0.40216576, 0.33125307,\n",
              "       0.41340476, 0.40892137, 0.37730833, 0.33646559, 0.37212453,\n",
              "       0.4206566 , 0.4132367 , 0.39985303, 0.52916073, 0.55527189,\n",
              "       0.62122908, 0.62130142, 0.60789042, 0.50439877, 0.56397063,\n",
              "       0.61734789, 0.41807187, 0.36869373, 0.44452639, 0.48079351,\n",
              "       0.50015893, 0.47265002, 0.37852896, 0.52178214, 0.47827229,\n",
              "       0.56816835, 0.53315967, 0.5964258 , 0.59722347, 0.35673265,\n",
              "       0.41412397, 0.46971194, 0.41708363, 0.39384091, 0.44056934,\n",
              "       0.47292699, 0.49264116, 0.49248733, 0.48274412, 0.378681  ,\n",
              "       0.44291031, 0.48781449, 0.4819175 , 0.45989332, 0.56787646,\n",
              "       0.4970579 , 0.58057653, 0.58250931, 0.59542693, 0.33125307,\n",
              "       0.37914465, 0.40533783, 0.39739473, 0.40608277, 0.41885268,\n",
              "       0.47705286, 0.49034026, 0.48338815, 0.44334357, 0.58020055])"
            ]
          },
          "metadata": {
            "tags": []
          },
          "execution_count": 44
        }
      ]
    },
    {
      "cell_type": "code",
      "metadata": {
        "id": "LjfNjmIkFU5g",
        "colab_type": "code",
        "colab": {}
      },
      "source": [
        "results_random_forest = pd.DataFrame(testing_poly['AssessmentiD'])\n",
        "results_random_forest.rename(columns={\"AssessmentiD\":\"AssessmentID\"})\n",
        "results_random_forest['LeadStatus'] = final_preds\n",
        "\n",
        "results_random_forest.to_csv('classification_submission_randforest.csv', index = False)"
      ],
      "execution_count": 0,
      "outputs": []
    },
    {
      "cell_type": "code",
      "metadata": {
        "id": "DNOj6S8iGF3h",
        "colab_type": "code",
        "outputId": "6807457d-2743-446f-e8d1-3c0dfe8ea503",
        "colab": {
          "base_uri": "https://localhost:8080/"
        }
      },
      "source": [
        "results_random_forest.head()"
      ],
      "execution_count": 0,
      "outputs": [
        {
          "output_type": "execute_result",
          "data": {
            "text/html": [
              "<div>\n",
              "<style scoped>\n",
              "    .dataframe tbody tr th:only-of-type {\n",
              "        vertical-align: middle;\n",
              "    }\n",
              "\n",
              "    .dataframe tbody tr th {\n",
              "        vertical-align: top;\n",
              "    }\n",
              "\n",
              "    .dataframe thead th {\n",
              "        text-align: right;\n",
              "    }\n",
              "</style>\n",
              "<table border=\"1\" class=\"dataframe\">\n",
              "  <thead>\n",
              "    <tr style=\"text-align: right;\">\n",
              "      <th></th>\n",
              "      <th>AssessmentiD</th>\n",
              "      <th>LeadStatus</th>\n",
              "    </tr>\n",
              "  </thead>\n",
              "  <tbody>\n",
              "    <tr>\n",
              "      <th>0</th>\n",
              "      <td>501017</td>\n",
              "      <td>0.442795</td>\n",
              "    </tr>\n",
              "    <tr>\n",
              "      <th>1</th>\n",
              "      <td>500679</td>\n",
              "      <td>0.372296</td>\n",
              "    </tr>\n",
              "    <tr>\n",
              "      <th>2</th>\n",
              "      <td>500930</td>\n",
              "      <td>0.448165</td>\n",
              "    </tr>\n",
              "    <tr>\n",
              "      <th>3</th>\n",
              "      <td>502177</td>\n",
              "      <td>0.492557</td>\n",
              "    </tr>\n",
              "    <tr>\n",
              "      <th>4</th>\n",
              "      <td>501533</td>\n",
              "      <td>0.481707</td>\n",
              "    </tr>\n",
              "  </tbody>\n",
              "</table>\n",
              "</div>"
            ],
            "text/plain": [
              "   AssessmentiD  LeadStatus\n",
              "0        501017    0.442795\n",
              "1        500679    0.372296\n",
              "2        500930    0.448165\n",
              "3        502177    0.492557\n",
              "4        501533    0.481707"
            ]
          },
          "metadata": {
            "tags": []
          },
          "execution_count": 46
        }
      ]
    },
    {
      "cell_type": "markdown",
      "metadata": {
        "id": "bf35kEr6sbey",
        "colab_type": "text"
      },
      "source": [
        "###XGBoost"
      ]
    },
    {
      "cell_type": "code",
      "metadata": {
        "id": "kTkppwvXsvg1",
        "colab_type": "code",
        "colab": {
          "base_uri": "https://localhost:8080/",
          "height": 136
        },
        "outputId": "5b0a0a8a-cab1-422f-d795-1c26d5eaf8b9"
      },
      "source": [
        "from xgboost import XGBClassifier\n",
        "from sklearn.metrics import accuracy_score\n",
        "\n",
        "xgb = XGBClassifier()\n",
        "\n",
        "X_train, X_val, y_train, y_val = train_test_split(training_poly, training_copy['LeadStatus'], test_size = 0.2, random_state = 1 )\n",
        "\n",
        "X_train, X_val, testing_scaled = scale_impute(X_train, X_val, testing_poly)\n",
        "\n",
        "xgb.fit(X_train, y_train)"
      ],
      "execution_count": 75,
      "outputs": [
        {
          "output_type": "execute_result",
          "data": {
            "text/plain": [
              "XGBClassifier(base_score=0.5, booster='gbtree', colsample_bylevel=1,\n",
              "              colsample_bynode=1, colsample_bytree=1, gamma=0,\n",
              "              learning_rate=0.1, max_delta_step=0, max_depth=3,\n",
              "              min_child_weight=1, missing=None, n_estimators=100, n_jobs=1,\n",
              "              nthread=None, objective='binary:logistic', random_state=0,\n",
              "              reg_alpha=0, reg_lambda=1, scale_pos_weight=1, seed=None,\n",
              "              silent=None, subsample=1, verbosity=1)"
            ]
          },
          "metadata": {
            "tags": []
          },
          "execution_count": 75
        }
      ]
    },
    {
      "cell_type": "markdown",
      "metadata": {
        "id": "QRIoRPiu8Df-",
        "colab_type": "text"
      },
      "source": [
        "####Observe important features"
      ]
    },
    {
      "cell_type": "code",
      "metadata": {
        "id": "tkpVwV1F837d",
        "colab_type": "code",
        "colab": {
          "base_uri": "https://localhost:8080/",
          "height": 513
        },
        "outputId": "0981db12-6d37-486a-9462-8a6c0f260099"
      },
      "source": [
        "from xgboost import plot_importance\n",
        "fig, ax = plt.subplots(figsize=(12, 8))\n",
        "plot_importance(xgb, ax=ax)\n",
        "plt.savefig('/content/drive/My Drive/Stats202_FinalProject/Figures/feature_importance_XGBoost.png')"
      ],
      "execution_count": 91,
      "outputs": [
        {
          "output_type": "display_data",
          "data": {
            "image/png": "[encoded data removed]",
            "text/plain": [
              "<Figure size 864x576 with 1 Axes>"
            ]
          },
          "metadata": {
            "tags": []
          }
        }
      ]
    },
    {
      "cell_type": "code",
      "metadata": {
        "id": "5pP5x90I-gBM",
        "colab_type": "code",
        "colab": {}
      },
      "source": [
        "#extract most important features\n",
        "feature_names = list(training_poly.columns)\n",
        "important_features_indexes = [i for i,val in enumerate(xgb.feature_importances_) if val != 0]\n",
        "important_features = [feature_names[i] for i in important_features_indexes]"
      ],
      "execution_count": 0,
      "outputs": []
    },
    {
      "cell_type": "code",
      "metadata": {
        "id": "ggIvXOUcAE3P",
        "colab_type": "code",
        "colab": {
          "base_uri": "https://localhost:8080/",
          "height": 51
        },
        "outputId": "79a24ccf-55a9-4469-a6b8-74e46d282dde"
      },
      "source": [
        "#select only features with nonzero importance\n",
        "training_final = training_poly[important_features]\n",
        "testing_final = testing_poly[important_features]\n",
        "\n",
        "print(\"Training set shape: \", training_final.shape)\n",
        "print(\"Testing set shape: \", testing_final.shape)"
      ],
      "execution_count": 78,
      "outputs": [
        {
          "output_type": "stream",
          "text": [
            "Training set shape:  (5106, 47)\n",
            "Testing set shape:  (1962, 47)\n"
          ],
          "name": "stdout"
        }
      ]
    },
    {
      "cell_type": "markdown",
      "metadata": {
        "id": "BaglnMEhEKKG",
        "colab_type": "text"
      },
      "source": [
        "####Re-train with updated feature set"
      ]
    },
    {
      "cell_type": "code",
      "metadata": {
        "id": "CKztfRUcENql",
        "colab_type": "code",
        "colab": {
          "base_uri": "https://localhost:8080/",
          "height": 136
        },
        "outputId": "cf2f03d5-c81c-4b51-c7fb-eeddc8d99f99"
      },
      "source": [
        "X_train, X_val, y_train, y_val = train_test_split(training_final, training_copy['LeadStatus'], test_size = 0.2, random_state = 1 )\n",
        "\n",
        "X_train, X_val, testing_scaled = scale_impute(X_train, X_val, testing_final)\n",
        "\n",
        "xgb.fit(X_train, y_train)"
      ],
      "execution_count": 79,
      "outputs": [
        {
          "output_type": "execute_result",
          "data": {
            "text/plain": [
              "XGBClassifier(base_score=0.5, booster='gbtree', colsample_bylevel=1,\n",
              "              colsample_bynode=1, colsample_bytree=1, gamma=0,\n",
              "              learning_rate=0.1, max_delta_step=0, max_depth=3,\n",
              "              min_child_weight=1, missing=None, n_estimators=100, n_jobs=1,\n",
              "              nthread=None, objective='binary:logistic', random_state=0,\n",
              "              reg_alpha=0, reg_lambda=1, scale_pos_weight=1, seed=None,\n",
              "              silent=None, subsample=1, verbosity=1)"
            ]
          },
          "metadata": {
            "tags": []
          },
          "execution_count": 79
        }
      ]
    },
    {
      "cell_type": "markdown",
      "metadata": {
        "id": "GjRrKs_C8KOv",
        "colab_type": "text"
      },
      "source": [
        "####Predict"
      ]
    },
    {
      "cell_type": "code",
      "metadata": {
        "id": "KQbA7pT2tvQm",
        "colab_type": "code",
        "colab": {
          "base_uri": "https://localhost:8080/",
          "height": 34
        },
        "outputId": "e8286e3a-bbb0-4e66-f23d-2a4a5033c520"
      },
      "source": [
        "y_pred = xgb.predict(X_val)\n",
        "\n",
        "accuracy = accuracy_score(y_val, y_pred)\n",
        "print(\"Accuracy: %.2f%%\" % (accuracy * 100.0))"
      ],
      "execution_count": 80,
      "outputs": [
        {
          "output_type": "stream",
          "text": [
            "Accuracy: 82.68%\n"
          ],
          "name": "stdout"
        }
      ]
    },
    {
      "cell_type": "code",
      "metadata": {
        "id": "2GFW4sRBuQwX",
        "colab_type": "code",
        "colab": {
          "base_uri": "https://localhost:8080/",
          "height": 85
        },
        "outputId": "b05570ea-e8dd-4323-8b6d-96f5fc9b8fa2"
      },
      "source": [
        "test_pred = xgb.predict_proba(testing_scaled)[:,1]\n",
        "test_pred[:15]\n"
      ],
      "execution_count": 81,
      "outputs": [
        {
          "output_type": "execute_result",
          "data": {
            "text/plain": [
              "array([0.41273656, 0.2063273 , 0.6843928 , 0.74249125, 0.8777853 ,\n",
              "       0.21153426, 0.72406906, 0.77136457, 0.9024401 , 0.9488115 ,\n",
              "       0.18166403, 0.6703286 , 0.7377292 , 0.88540506, 0.85317653],\n",
              "      dtype=float32)"
            ]
          },
          "metadata": {
            "tags": []
          },
          "execution_count": 81
        }
      ]
    },
    {
      "cell_type": "code",
      "metadata": {
        "id": "USZ4hubduR6T",
        "colab_type": "code",
        "colab": {}
      },
      "source": [
        "results_xgb = pd.DataFrame(testing_poly['AssessmentiD'])\n",
        "results_xgb.rename(columns={\"AssessmentiD\":\"AssessmentID\"})\n",
        "results_xgb['LeadStatus'] = test_pred\n",
        "\n",
        "results_xgb.to_csv('classification_submission_xgb.csv', index = False)"
      ],
      "execution_count": 0,
      "outputs": []
    },
    {
      "cell_type": "code",
      "metadata": {
        "id": "gATzRk61jEgf",
        "colab_type": "code",
        "colab": {}
      },
      "source": [
        ""
      ],
      "execution_count": 0,
      "outputs": []
    }
  ]
}